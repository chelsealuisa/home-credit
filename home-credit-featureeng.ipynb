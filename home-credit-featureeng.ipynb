{
 "cells": [
  {
   "cell_type": "markdown",
   "metadata": {},
   "source": [
    "# Home Credit Default Risk - Kaggle competition"
   ]
  },
  {
   "cell_type": "markdown",
   "metadata": {},
   "source": [
    "This notebook will cover basic feature engineering and construction of a base model."
   ]
  },
  {
   "cell_type": "markdown",
   "metadata": {},
   "source": [
    "## Initial Setup\n",
    "#### Import packages"
   ]
  },
  {
   "cell_type": "code",
   "execution_count": 190,
   "metadata": {
    "collapsed": true
   },
   "outputs": [],
   "source": [
    "import pandas as pd\n",
    "import seaborn as sns\n",
    "import numpy as np\n",
    "import matplotlib.pyplot as plt\n",
    "from scipy import stats\n",
    "\n",
    "%matplotlib inline"
   ]
  },
  {
   "cell_type": "markdown",
   "metadata": {},
   "source": [
    "#### Load datasets from EDA notebook"
   ]
  },
  {
   "cell_type": "code",
   "execution_count": 191,
   "metadata": {},
   "outputs": [
    {
     "name": "stdout",
     "output_type": "stream",
     "text": [
      "Training set shape:  (307511, 245)\n",
      "Test set shape:  (48744, 243)\n",
      "Bureau data shape:  (1716428, 38)\n",
      "Prev applications data shape:  (1670214, 164)\n"
     ]
    }
   ],
   "source": [
    "%store -r app_train\n",
    "%store -r app_test\n",
    "%store -r bureau_tgt\n",
    "%store -r prev_app_tgt\n",
    "\n",
    "print('Training set shape: ',app_train.shape)\n",
    "print('Test set shape: ',app_test.shape)\n",
    "print('Bureau data shape: ',bureau_tgt.shape)\n",
    "print('Prev applications data shape: ',prev_app_tgt.shape)"
   ]
  },
  {
   "cell_type": "markdown",
   "metadata": {},
   "source": [
    "## Handle Missing Values"
   ]
  },
  {
   "cell_type": "code",
   "execution_count": 200,
   "metadata": {},
   "outputs": [],
   "source": [
    "# Identify columns with missing values in training set\n",
    "def missing_vals_cols(df):\n",
    "    mv_cols = df.columns[df.isnull().any()].tolist()\n",
    "    print('Dataframe has {} columns.\\nThere are {} columns with missing values.'.format(df.shape[1],len(mv_cols)))\n",
    "    \n",
    "    return mv_cols"
   ]
  },
  {
   "cell_type": "code",
   "execution_count": 197,
   "metadata": {},
   "outputs": [
    {
     "name": "stdout",
     "output_type": "stream",
     "text": [
      "Dataframe has 245 columns.\n",
      "There are 61 columns with missing values.\n",
      "\n"
     ]
    }
   ],
   "source": [
    "mv_cols = missing_vals_cols(app_train)"
   ]
  },
  {
   "cell_type": "code",
   "execution_count": 198,
   "metadata": {},
   "outputs": [
    {
     "data": {
      "text/plain": [
       "0.10164667949810266"
      ]
     },
     "execution_count": 198,
     "metadata": {},
     "output_type": "execute_result"
    }
   ],
   "source": [
    "# AMT_GOODS_PRICE\n",
    "\n",
    "# It would seem reasonalbe to set AMT_GOODS_PRICE equal to AMT_CREDIT\n",
    "# Let's check how well these columns align for the non-null cases\n",
    "temp = app_train[app_train.AMT_GOODS_PRICE.notnull()]\n",
    "sum(temp.AMT_CREDIT - temp.AMT_GOODS_PRICE)/sum(temp.AMT_CREDIT)"
   ]
  },
  {
   "cell_type": "code",
   "execution_count": 199,
   "metadata": {},
   "outputs": [
    {
     "name": "stdout",
     "output_type": "stream",
     "text": [
      "Dataframe has 245 columns.\n",
      "There are 61 columns with missing values.\n",
      "\n"
     ]
    }
   ],
   "source": [
    "# AMT_GOODS_PRICE is on average 10% lower than the AMT_CREDIT\n",
    "# So impute missing AMT_GOODS_PRICE values as 0.9*AMT_CREDIT\n",
    "app_train.loc[app_train.AMT_GOODS_PRICE.isnull(),'AMT_GOODS_PRICE'] = 0.9*app_train.AMT_CREDIT\n",
    "\n",
    "# Check whether it worked\n",
    "mv_cols = missing_vals_cols(app_train)"
   ]
  },
  {
   "cell_type": "code",
   "execution_count": 201,
   "metadata": {},
   "outputs": [
    {
     "name": "stdout",
     "output_type": "stream",
     "text": [
      "Mean daily requests: 0.0070002105326475985\n",
      "Mean quarterly requests: 0.26547414959848414\n"
     ]
    }
   ],
   "source": [
    "# AMT_REQ_CREDIT variables\n",
    "\n",
    "# Setting NaNs to zero or the mean number of requests would seem to be sensible approaches.\n",
    "# Check mean number of requests:\n",
    "print('Mean daily requests:',np.mean(app_train.AMT_REQ_CREDIT_BUREAU_DAY))\n",
    "print('Mean quarterly requests:',np.mean(app_train.AMT_REQ_CREDIT_BUREAU_QRT))      "
   ]
  },
  {
   "cell_type": "code",
   "execution_count": 202,
   "metadata": {},
   "outputs": [
    {
     "name": "stdout",
     "output_type": "stream",
     "text": [
      "Dataframe has 245 columns.\n",
      "There are 55 columns with missing values.\n"
     ]
    }
   ],
   "source": [
    "# Mean requests are very low anyway, so we will set missing values for these variables to zero.\n",
    "for col in ['AMT_REQ_CREDIT_BUREAU_DAY', 'AMT_REQ_CREDIT_BUREAU_HOUR', 'AMT_REQ_CREDIT_BUREAU_MON', \n",
    "            'AMT_REQ_CREDIT_BUREAU_QRT', 'AMT_REQ_CREDIT_BUREAU_WEEK', 'AMT_REQ_CREDIT_BUREAU_YEAR']:\n",
    "    app_train.loc[app_train[col].isnull(),col] = 0\n",
    "\n",
    "# Check whether it worked\n",
    "mv_cols = missing_vals_cols(app_train)"
   ]
  },
  {
   "cell_type": "code",
   "execution_count": 207,
   "metadata": {},
   "outputs": [
    {
     "name": "stdout",
     "output_type": "stream",
     "text": [
      "Dataframe has 245 columns.\n",
      "There are 0 columns with missing values.\n",
      "\n",
      "Columns with missing values:\n"
     ]
    },
    {
     "data": {
      "text/plain": [
       "[]"
      ]
     },
     "execution_count": 207,
     "metadata": {},
     "output_type": "execute_result"
    }
   ],
   "source": [
    "# Information on the building where the client lives\n",
    "\n",
    "# Approach: impute using the same strategy as the variable\n",
    "housing_vars = ['APARTMENTS', 'BASEMENTAREA','COMMONAREA','ELEVATORS','ENTRANCES','FLOORSMAX','FLOORSMIN',\n",
    "                'LANDAREA','LIVINGAPARTMENTS','LIVINGAREA','NONLIVINGAPARTMENTS','NONLIVINGAREA',\n",
    "                'YEARS_BEGINEXPLUATATION','YEARS_BUILD']\n",
    "\n",
    "for col in housing_vars:\n",
    "    app_train.loc[app_train[col+'_AVG'].isnull(),col+'_AVG'] = np.nanmean(app_train[col+'_AVG'])\n",
    "    app_train.loc[app_train[col+'_MEDI'].isnull(),col+'_MEDI'] = np.nanmedian(app_train[col+'_MEDI'])\n",
    "    app_train.loc[app_train[col+'_MODE'].isnull(),col+'_MODE'] = stats.mode(app_train[col+'_MODE'],nan_policy='omit')\n",
    "\n",
    "# TOTALAREA_MODE does not have corresponding AVG and MEDI vars, so process this separately.\n",
    "app_train.loc[app_train['TOTALAREA_MODE'].isnull(),'TOTALAREA_MODE'] = stats.mode(app_train['TOTALAREA_MODE'],nan_policy='omit')\n",
    "\n",
    "# Check whether it worked\n",
    "mv_cols = missing_vals_cols(app_train)\n",
    "print('\\nColumns with missing values:')\n",
    "mv_cols"
   ]
  },
  {
   "cell_type": "code",
   "execution_count": 206,
   "metadata": {},
   "outputs": [
    {
     "name": "stdout",
     "output_type": "stream",
     "text": [
      "Dataframe has 245 columns.\n",
      "There are 0 columns with missing values.\n"
     ]
    },
    {
     "data": {
      "text/plain": [
       "[]"
      ]
     },
     "execution_count": 206,
     "metadata": {},
     "output_type": "execute_result"
    }
   ],
   "source": [
    "# For the remaining variables, we will take the median.\n",
    "for col in mv_cols:\n",
    "    app_train.loc[app_train[col].isnull(),col] = np.nanmedian(app_train[col])\n",
    "    \n",
    "missing_vals_cols(app_train)"
   ]
  },
  {
   "cell_type": "markdown",
   "metadata": {},
   "source": [
    "## Feature Engineering\n",
    "\n",
    "### Additional features from training set\n",
    "\n",
    "Ideas:\n",
    "- Amount of credit relative to income (AMT_CREDIT/AMT_INCOME_TOTAL)\n",
    "- Amount of annuity relative to income (AMT_ANNUITY/AMT_INCOME_TOTAL)\n",
    "- Amount of credit relative to age (AMT_CREDIT/DAYS_BIRTH)\n",
    "- Length of current employment relative to age (DAYS_EMPLOYED/DAYS_BIRTH)"
   ]
  },
  {
   "cell_type": "code",
   "execution_count": 208,
   "metadata": {},
   "outputs": [
    {
     "name": "stdout",
     "output_type": "stream",
     "text": [
      "Train set shape: (307511, 245)\n",
      "Test set shape: (48744, 243)\n",
      "Combined set shape: (356255, 245)\n"
     ]
    }
   ],
   "source": [
    "# Start by appending test set to train set so that features are consistent\n",
    "app_train['test_set'] = 0\n",
    "app_test['test_set'] = 1\n",
    "\n",
    "app_train_test = app_train.append(app_test)\n",
    "\n",
    "print('Train set shape:', app_train.shape)\n",
    "print('Test set shape:', app_test.shape)\n",
    "print('Combined set shape:', app_train_test.shape)"
   ]
  },
  {
   "cell_type": "code",
   "execution_count": 209,
   "metadata": {},
   "outputs": [
    {
     "name": "stdout",
     "output_type": "stream",
     "text": [
      "Combined set shape: (356255, 249)\n"
     ]
    }
   ],
   "source": [
    "# Create new features from existing\n",
    "app_train_test['CREDIT_INCOME'] = app_train_test['AMT_CREDIT']/app_train_test['AMT_INCOME_TOTAL']\n",
    "app_train_test['ANNUITY_INCOME'] = app_train_test['AMT_ANNUITY']/app_train_test['AMT_INCOME_TOTAL']\n",
    "app_train_test['CREDIT_AGE'] = app_train_test['AMT_CREDIT']/app_train_test['DAYS_BIRTH']\n",
    "app_train_test['EMPT_AGE'] = app_train_test['DAYS_EMPLOYED']/app_train_test['DAYS_BIRTH']\n",
    "\n",
    "print('Combined set shape:', app_train_test.shape)"
   ]
  },
  {
   "cell_type": "code",
   "execution_count": 211,
   "metadata": {},
   "outputs": [
    {
     "name": "stdout",
     "output_type": "stream",
     "text": [
      "                CREDIT_INCOME  ANNUITY_INCOME  CREDIT_AGE  EMPT_AGE    TARGET\n",
      "CREDIT_INCOME        1.000000        0.780012   -0.560861  0.026530 -0.007727\n",
      "ANNUITY_INCOME       0.780012        1.000000   -0.325919 -0.015527  0.014268\n",
      "CREDIT_AGE          -0.560861       -0.325919    1.000000 -0.102270  0.002729\n",
      "EMPT_AGE             0.026530       -0.015527   -0.102270  1.000000 -0.049603\n",
      "TARGET              -0.007727        0.014268    0.002729 -0.049603  1.000000\n"
     ]
    },
    {
     "data": {
      "image/png": "[encoded data removed]",
      "text/plain": [
       "<matplotlib.figure.Figure at 0x171726ac3c8>"
      ]
     },
     "metadata": {},
     "output_type": "display_data"
    }
   ],
   "source": [
    "# Check whether these new features are likely to be of interest \n",
    "# by computing their correlation with the target variable.\n",
    "correlations = app_train_test[['CREDIT_INCOME','ANNUITY_INCOME','CREDIT_AGE','EMPT_AGE','TARGET']].corr()\n",
    "print(correlations)\n",
    "\n",
    "# Correlation heatmap\n",
    "sns.heatmap(correlations, annot=True, fmt = \".2f\");"
   ]
  },
  {
   "cell_type": "markdown",
   "metadata": {},
   "source": [
    "It appears as though EMPT_AGE is the only variable that has some relationship with the target variable. "
   ]
  },
  {
   "cell_type": "code",
   "execution_count": 212,
   "metadata": {},
   "outputs": [
    {
     "name": "stdout",
     "output_type": "stream",
     "text": [
      "Train set shape: (307511, 248)\n",
      "Test set shape: (48744, 247)\n"
     ]
    }
   ],
   "source": [
    "# Re-separate training and test sets before modelling.\n",
    "app_train = app_train_test.loc[(app_train_test['test_set']==0),].drop(['test_set'], axis=1)\n",
    "app_test = app_train_test.loc[(app_train_test['test_set']==1),].drop(['test_set','TARGET'], axis=1)\n",
    "\n",
    "print('Train set shape:', app_train.shape)\n",
    "print('Test set shape:', app_test.shape)"
   ]
  },
  {
   "cell_type": "markdown",
   "metadata": {},
   "source": [
    "\n",
    "## Baseline Models\n",
    "### Training data\n",
    "\n",
    "#### Logistic regression\n",
    "\n",
    "Start with basic logistic regression using only features from the training dataset in order to get a baseline.\n",
    "\n",
    "According to the Kaggle information, the evaluation variable is ROC AUC score."
   ]
  },
  {
   "cell_type": "code",
   "execution_count": 237,
   "metadata": {},
   "outputs": [],
   "source": [
    "# Import modelling libraries\n",
    "\n",
    "from sklearn.linear_model import LogisticRegression\n",
    "from sklearn.ensemble import RandomForestClassifier\n",
    "from sklearn.preprocessing import StandardScaler, scale\n",
    "from sklearn.pipeline import Pipeline\n",
    "from sklearn.model_selection import train_test_split, cross_val_score\n",
    "from sklearn.metrics import accuracy_score, recall_score, confusion_matrix, classification_report, roc_curve, roc_auc_score"
   ]
  },
  {
   "cell_type": "code",
   "execution_count": 221,
   "metadata": {
    "collapsed": true
   },
   "outputs": [],
   "source": [
    "# Set up features, target, test and train datasets\n",
    "\n",
    "X = app_train.drop(['TARGET'], axis=1)\n",
    "X_orig = app_train.drop(['CREDIT_INCOME','ANNUITY_INCOME','CREDIT_AGE','EMPT_AGE','TARGET'], axis=1) # without engineered features\n",
    "y = app_train['TARGET']\n",
    "\n",
    "X_train, X_test, y_train, y_test = train_test_split(X, y, test_size = 0.2, random_state=42)"
   ]
  },
  {
   "cell_type": "code",
   "execution_count": 226,
   "metadata": {},
   "outputs": [
    {
     "data": {
      "text/plain": [
       "Pipeline(steps=[('scaler', StandardScaler(copy=True, with_mean=True, with_std=True)), ('logistic_regression', LogisticRegression(C=1.0, class_weight=None, dual=False, fit_intercept=True,\n",
       "          intercept_scaling=1, max_iter=100, multi_class='ovr', n_jobs=1,\n",
       "          penalty='l2', random_state=None, solver='liblinear', tol=0.0001,\n",
       "          verbose=0, warm_start=False))])"
      ]
     },
     "execution_count": 226,
     "metadata": {},
     "output_type": "execute_result"
    }
   ],
   "source": [
    "# Set up pipeline for logistic regression\n",
    "\n",
    "logreg = LogisticRegression()\n",
    "\n",
    "steps_log = [('scaler', StandardScaler()),\n",
    "             ('logistic_regression', logreg)]\n",
    "\n",
    "pipeline_log = Pipeline(steps_log)\n",
    "\n",
    "pipeline_log.fit(X_train, y_train)"
   ]
  },
  {
   "cell_type": "code",
   "execution_count": 230,
   "metadata": {},
   "outputs": [
    {
     "name": "stdout",
     "output_type": "stream",
     "text": [
      "Predicted values: [0.000 0.000 0.000 0.000 0.000 0.000 0.000 0.000 0.000 0.000]\n",
      "Predicted probabilities: [0.237 0.025 0.155 0.015 0.085 0.203 0.045 0.167 0.101 0.052]\n"
     ]
    }
   ],
   "source": [
    "# Make predictions on test dataset\n",
    "y_pred_log = pipeline_log.predict(X_test)\n",
    "\n",
    "# Predicted probabilities\n",
    "y_pred_prob_log = pipeline_log.predict_proba(X_test)[:, 1]\n",
    "\n",
    "print('Predicted classifications:',y_pred_log[:10])\n",
    "print('Predicted probabilities:',y_pred_prob_log[:10])"
   ]
  },
  {
   "cell_type": "code",
   "execution_count": 232,
   "metadata": {},
   "outputs": [
    {
     "name": "stdout",
     "output_type": "stream",
     "text": [
      "ROC AUC score: 0.747997734761\n",
      "\n",
      "Accuracy score:  0.919402305579\n",
      "\n",
      "Confusion matrix:\n",
      " [[56481    73]\n",
      " [ 4884    65]]\n",
      "\n",
      "Classification report:\n",
      "              precision    recall  f1-score   support\n",
      "\n",
      "        0.0       0.92      1.00      0.96     56554\n",
      "        1.0       0.47      0.01      0.03      4949\n",
      "\n",
      "avg / total       0.88      0.92      0.88     61503\n",
      "\n"
     ]
    }
   ],
   "source": [
    "# Metrics (competition will be evaluated on ROC AUC score)\n",
    "\n",
    "# ROC AUC score\n",
    "print('ROC AUC score:',roc_auc_score(y_test, y_pred_prob_log))\n",
    "\n",
    "# Accuracy score\n",
    "print('\\nAccuracy score: ',accuracy_score(y_pred_log, y_test))\n",
    "\n",
    "# Confusion matrix\n",
    "print('\\nConfusion matrix:\\n',confusion_matrix(y_test, y_pred_log))\n",
    "\n",
    "# Classification report\n",
    "print('\\nClassification report:\\n',classification_report(y_test, y_pred_log))"
   ]
  },
  {
   "cell_type": "code",
   "execution_count": 233,
   "metadata": {},
   "outputs": [
    {
     "data": {
      "image/png": "[encoded data removed]",
      "text/plain": [
       "<matplotlib.figure.Figure at 0x17210f54160>"
      ]
     },
     "metadata": {},
     "output_type": "display_data"
    }
   ],
   "source": [
    "# Plot ROC curve\n",
    "fpr, tpr, thresholds = roc_curve(y_test, y_pred_prob_log)\n",
    "\n",
    "plt.plot([0,1],[0,1],'k--')\n",
    "plt.plot(fpr,tpr,label='Logistic Regression')\n",
    "plt.xlabel('FPR')\n",
    "plt.ylabel('TPR')\n",
    "plt.title('Logistic Regression ROC Curve')\n",
    "plt.show()"
   ]
  },
  {
   "cell_type": "code",
   "execution_count": 238,
   "metadata": {},
   "outputs": [
    {
     "name": "stdout",
     "output_type": "stream",
     "text": [
      "ROC AUC scores from cross-validation: [0.747 0.746 0.742 0.748 0.751]\n",
      "Mean score:  0.746865469651\n"
     ]
    }
   ],
   "source": [
    "X_scaled = scale(X)\n",
    "cv_scores_log = cross_val_score(logreg, X_scaled, y, cv=5, scoring='roc_auc')\n",
    "print('ROC AUC scores from cross-validation:',cv_scores_log)\n",
    "print('Mean score:', np.mean(cv_scores_log))"
   ]
  },
  {
   "cell_type": "code",
   "execution_count": 247,
   "metadata": {},
   "outputs": [
    {
     "name": "stdout",
     "output_type": "stream",
     "text": [
      "ROC AUC scores from cross-validation: [0.745 0.745 0.742 0.748 0.751]\n",
      "Mean score:  0.746287678528\n"
     ]
    }
   ],
   "source": [
    "# Check whether model performs better with or without the added features\n",
    "X_orig_scaled = scale(X_orig)\n",
    "cv_scores_log = cross_val_score(logreg, X_orig_scaled, y, cv=5, scoring='roc_auc')\n",
    "print('ROC AUC scores from cross-validation:',cv_scores_log)\n",
    "print('Mean score:', np.mean(cv_scores_log))"
   ]
  },
  {
   "cell_type": "markdown",
   "metadata": {},
   "source": [
    "The additional features make next to no difference to the model performance. "
   ]
  },
  {
   "cell_type": "markdown",
   "metadata": {},
   "source": [
    "#### Random Forest model"
   ]
  },
  {
   "cell_type": "code",
   "execution_count": 248,
   "metadata": {},
   "outputs": [
    {
     "name": "stderr",
     "output_type": "stream",
     "text": [
      "[Parallel(n_jobs=1)]: Done 100 out of 100 | elapsed:  3.2min finished\n"
     ]
    },
    {
     "data": {
      "text/plain": [
       "Pipeline(steps=[('scaler', StandardScaler(copy=True, with_mean=True, with_std=True)), ('random_forest', RandomForestClassifier(bootstrap=True, class_weight=None, criterion='gini',\n",
       "            max_depth=None, max_features='auto', max_leaf_nodes=None,\n",
       "            min_impurity_split=1e-07, min_samples_leaf=1,\n",
       "            min_samples_split=2, min_weight_fraction_leaf=0.0,\n",
       "            n_estimators=100, n_jobs=1, oob_score=False, random_state=42,\n",
       "            verbose=1, warm_start=False))])"
      ]
     },
     "execution_count": 248,
     "metadata": {},
     "output_type": "execute_result"
    }
   ],
   "source": [
    "# Random forest estimator using 100 trees\n",
    "random_forest = RandomForestClassifier(n_estimators = 100, random_state=42,verbose=1)\n",
    "\n",
    "steps_rf = [('scaler', StandardScaler()),\n",
    "            ('random_forest',random_forest)]\n",
    "\n",
    "pipeline_rf = Pipeline(steps_rf)\n",
    "\n",
    "pipeline_rf.fit(X_train, y_train)"
   ]
  },
  {
   "cell_type": "code",
   "execution_count": 249,
   "metadata": {},
   "outputs": [
    {
     "name": "stderr",
     "output_type": "stream",
     "text": [
      "[Parallel(n_jobs=1)]: Done 100 out of 100 | elapsed:    3.5s finished\n"
     ]
    },
    {
     "name": "stdout",
     "output_type": "stream",
     "text": [
      "Predicted classifications: [0.000 0.000 0.000 0.000 0.000 0.000 0.000 0.000 0.000 0.000]\n",
      "Predicted probabilities: [0.230 0.050 0.090 0.020 0.050 0.090 0.040 0.200 0.080 0.050]\n"
     ]
    },
    {
     "name": "stderr",
     "output_type": "stream",
     "text": [
      "[Parallel(n_jobs=1)]: Done 100 out of 100 | elapsed:    4.2s finished\n"
     ]
    }
   ],
   "source": [
    "# Make predictions on test dataset\n",
    "y_pred_rf = pipeline_rf.predict(X_test)\n",
    "\n",
    "# Predicted probabilities\n",
    "y_pred_prob_rf = pipeline_rf.predict_proba(X_test)[:, 1]\n",
    "\n",
    "print('Predicted classifications:',y_pred_rf[:10])\n",
    "print('Predicted probabilities:',y_pred_prob_rf[:10])"
   ]
  },
  {
   "cell_type": "code",
   "execution_count": 250,
   "metadata": {},
   "outputs": [
    {
     "name": "stdout",
     "output_type": "stream",
     "text": [
      "ROC AUC score: 0.711351090027\n",
      "\n",
      "Accuracy score:  0.919564899273\n",
      "\n",
      "Confusion matrix:\n",
      " [[56553     1]\n",
      " [ 4946     3]]\n",
      "\n",
      "Classification report:\n",
      "              precision    recall  f1-score   support\n",
      "\n",
      "        0.0       0.92      1.00      0.96     56554\n",
      "        1.0       0.75      0.00      0.00      4949\n",
      "\n",
      "avg / total       0.91      0.92      0.88     61503\n",
      "\n"
     ]
    }
   ],
   "source": [
    "# Metrics (competition will be evaluated on ROC AUC score)\n",
    "\n",
    "# ROC AUC score\n",
    "print('ROC AUC score:',roc_auc_score(y_test, y_pred_prob_rf))\n",
    "\n",
    "# Accuracy score\n",
    "print('\\nAccuracy score: ',accuracy_score(y_pred_rf, y_test))\n",
    "\n",
    "# Confusion matrix\n",
    "print('\\nConfusion matrix:\\n',confusion_matrix(y_test, y_pred_rf))\n",
    "\n",
    "# Classification report\n",
    "print('\\nClassification report:\\n',classification_report(y_test, y_pred_rf))"
   ]
  },
  {
   "cell_type": "code",
   "execution_count": 251,
   "metadata": {},
   "outputs": [
    {
     "data": {
      "image/png": "[encoded data removed]",
      "text/plain": [
       "<matplotlib.figure.Figure at 0x1718aea4518>"
      ]
     },
     "metadata": {},
     "output_type": "display_data"
    }
   ],
   "source": [
    "# Plot ROC curve\n",
    "fpr, tpr, thresholds = roc_curve(y_test, y_pred_prob_rf)\n",
    "\n",
    "plt.plot([0,1],[0,1],'k--')\n",
    "plt.plot(fpr,tpr,label='Random Forest Classifier')\n",
    "plt.xlabel('FPR')\n",
    "plt.ylabel('TPR')\n",
    "plt.title('Random Forest Classifier ROC Curve')\n",
    "plt.show()"
   ]
  },
  {
   "cell_type": "code",
   "execution_count": 252,
   "metadata": {},
   "outputs": [
    {
     "name": "stderr",
     "output_type": "stream",
     "text": [
      "[Parallel(n_jobs=1)]: Done 100 out of 100 | elapsed:  3.2min finished\n",
      "[Parallel(n_jobs=1)]: Done 100 out of 100 | elapsed:    2.9s finished\n",
      "[Parallel(n_jobs=1)]: Done 100 out of 100 | elapsed:  3.1min finished\n",
      "[Parallel(n_jobs=1)]: Done 100 out of 100 | elapsed:    2.7s finished\n",
      "[Parallel(n_jobs=1)]: Done 100 out of 100 | elapsed:  3.1min finished\n",
      "[Parallel(n_jobs=1)]: Done 100 out of 100 | elapsed:    2.8s finished\n",
      "[Parallel(n_jobs=1)]: Done 100 out of 100 | elapsed:  4.6min finished\n",
      "[Parallel(n_jobs=1)]: Done 100 out of 100 | elapsed:    4.6s finished\n",
      "[Parallel(n_jobs=1)]: Done 100 out of 100 | elapsed:  5.6min finished\n",
      "[Parallel(n_jobs=1)]: Done 100 out of 100 | elapsed:    5.9s finished\n"
     ]
    },
    {
     "name": "stdout",
     "output_type": "stream",
     "text": [
      "ROC AUC scores from cross-validation: [0.712 0.711 0.705 0.713 0.707]\n",
      "Mean score:  0.709643772233\n"
     ]
    }
   ],
   "source": [
    "cv_scores_rf = cross_val_score(random_forest, X_scaled, y, cv=5, scoring='roc_auc')\n",
    "print('ROC AUC scores from cross-validation:', cv_scores_rf)\n",
    "print('Mean score:', np.mean(cv_scores_rf))"
   ]
  },
  {
   "cell_type": "markdown",
   "metadata": {},
   "source": [
    "## Feature Engineering\n",
    "\n",
    "### Credit Bureau dataset\n",
    "Ideas:\n",
    "- Flag for whether applicant has had a previous Bureau loan (SK_ID_CURR is in Bureau = True)\n",
    "- Count of the number of previous Bureau loans (count of SK_ID_CURR in Bureau)\n",
    "- Flag for whether the applicant had an overdue/defaulted Bureau loan (\n",
    "- Max length of previous loan\n",
    "- Max size of previous loan\n",
    "- Flag for whether applicant has a current Bureau loan\n",
    "- Max "
   ]
  },
  {
   "cell_type": "code",
   "execution_count": 29,
   "metadata": {},
   "outputs": [
    {
     "data": {
      "text/plain": [
       "['SK_ID_CURR',\n",
       " 'SK_ID_BUREAU',\n",
       " 'DAYS_CREDIT',\n",
       " 'CREDIT_DAY_OVERDUE',\n",
       " 'DAYS_CREDIT_ENDDATE',\n",
       " 'DAYS_ENDDATE_FACT',\n",
       " 'AMT_CREDIT_MAX_OVERDUE',\n",
       " 'CNT_CREDIT_PROLONG',\n",
       " 'AMT_CREDIT_SUM',\n",
       " 'AMT_CREDIT_SUM_DEBT',\n",
       " 'AMT_CREDIT_SUM_LIMIT',\n",
       " 'AMT_CREDIT_SUM_OVERDUE',\n",
       " 'DAYS_CREDIT_UPDATE',\n",
       " 'AMT_ANNUITY',\n",
       " 'TARGET',\n",
       " 'CREDIT_ACTIVE_Active',\n",
       " 'CREDIT_ACTIVE_Bad debt',\n",
       " 'CREDIT_ACTIVE_Closed',\n",
       " 'CREDIT_ACTIVE_Sold',\n",
       " 'CREDIT_CURRENCY_currency 1',\n",
       " 'CREDIT_CURRENCY_currency 2',\n",
       " 'CREDIT_CURRENCY_currency 3',\n",
       " 'CREDIT_CURRENCY_currency 4',\n",
       " 'CREDIT_TYPE_Another type of loan',\n",
       " 'CREDIT_TYPE_Car loan',\n",
       " 'CREDIT_TYPE_Cash loan (non-earmarked)',\n",
       " 'CREDIT_TYPE_Consumer credit',\n",
       " 'CREDIT_TYPE_Credit card',\n",
       " 'CREDIT_TYPE_Interbank credit',\n",
       " 'CREDIT_TYPE_Loan for business development',\n",
       " 'CREDIT_TYPE_Loan for purchase of shares (margin lending)',\n",
       " 'CREDIT_TYPE_Loan for the purchase of equipment',\n",
       " 'CREDIT_TYPE_Loan for working capital replenishment',\n",
       " 'CREDIT_TYPE_Microloan',\n",
       " 'CREDIT_TYPE_Mobile operator loan',\n",
       " 'CREDIT_TYPE_Mortgage',\n",
       " 'CREDIT_TYPE_Real estate loan',\n",
       " 'CREDIT_TYPE_Unknown type of loan']"
      ]
     },
     "execution_count": 29,
     "metadata": {},
     "output_type": "execute_result"
    }
   ],
   "source": [
    "list(bureau_tgt)"
   ]
  },
  {
   "cell_type": "markdown",
   "metadata": {},
   "source": [
    "### Previous Applications dataset"
   ]
  },
  {
   "cell_type": "markdown",
   "metadata": {},
   "source": [
    "#### Save data for transerral to other notebooks"
   ]
  },
  {
   "cell_type": "code",
   "execution_count": null,
   "metadata": {
    "collapsed": true
   },
   "outputs": [],
   "source": [
    "%store app_train\n",
    "%store app_test\n",
    "%store bureau_tgt\n",
    "%store prev_app_tgt"
   ]
  }
 ],
 "metadata": {
  "kernelspec": {
   "display_name": "Python 3",
   "language": "python",
   "name": "python3"
  },
  "language_info": {
   "codemirror_mode": {
    "name": "ipython",
    "version": 3
   },
   "file_extension": ".py",
   "mimetype": "text/x-python",
   "name": "python",
   "nbconvert_exporter": "python",
   "pygments_lexer": "ipython3",
   "version": "3.6.1"
  }
 },
 "nbformat": 4,
 "nbformat_minor": 2
}
