{
 "cells": [
  {
   "cell_type": "markdown",
   "metadata": {},
   "source": [
    "# Home Credit Default Risk - Kaggle competition"
   ]
  },
  {
   "cell_type": "markdown",
   "metadata": {},
   "source": [
    "This notebook will cover basic feature engineering and construction of a base model."
   ]
  },
  {
   "cell_type": "markdown",
   "metadata": {},
   "source": [
    "## Initial Setup\n",
    "#### Import packages"
   ]
  },
  {
   "cell_type": "code",
   "execution_count": 190,
   "metadata": {
    "collapsed": true
   },
   "outputs": [],
   "source": [
    "import pandas as pd\n",
    "import seaborn as sns\n",
    "import numpy as np\n",
    "import matplotlib.pyplot as plt\n",
    "from scipy import stats\n",
    "\n",
    "%matplotlib inline"
   ]
  },
  {
   "cell_type": "markdown",
   "metadata": {},
   "source": [
    "#### Load datasets from EDA notebook"
   ]
  },
  {
   "cell_type": "code",
   "execution_count": 191,
   "metadata": {},
   "outputs": [
    {
     "name": "stdout",
     "output_type": "stream",
     "text": [
      "Training set shape:  (307511, 245)\n",
      "Test set shape:  (48744, 243)\n",
      "Bureau data shape:  (1716428, 38)\n",
      "Prev applications data shape:  (1670214, 164)\n"
     ]
    }
   ],
   "source": [
    "%store -r app_train\n",
    "%store -r app_test\n",
    "%store -r bureau_tgt\n",
    "%store -r prev_app_tgt\n",
    "\n",
    "print('Training set shape: ',app_train.shape)\n",
    "print('Test set shape: ',app_test.shape)\n",
    "print('Bureau data shape: ',bureau_tgt.shape)\n",
    "print('Prev applications data shape: ',prev_app_tgt.shape)"
   ]
  },
  {
   "cell_type": "markdown",
   "metadata": {},
   "source": [
    "## Handle Missing Values"
   ]
  },
  {
   "cell_type": "code",
   "execution_count": 200,
   "metadata": {},
   "outputs": [],
   "source": [
    "# Identify columns with missing values in training set\n",
    "def missing_vals_cols(df):\n",
    "    mv_cols = df.columns[df.isnull().any()].tolist()\n",
    "    print('Dataframe has {} columns.\\nThere are {} columns with missing values.'.format(df.shape[1],len(mv_cols)))\n",
    "    \n",
    "    return mv_cols"
   ]
  },
  {
   "cell_type": "code",
   "execution_count": 197,
   "metadata": {},
   "outputs": [
    {
     "name": "stdout",
     "output_type": "stream",
     "text": [
      "Dataframe has 245 columns.\n",
      "There are 61 columns with missing values.\n",
      "\n"
     ]
    }
   ],
   "source": [
    "mv_cols = missing_vals_cols(app_train)"
   ]
  },
  {
   "cell_type": "code",
   "execution_count": 198,
   "metadata": {},
   "outputs": [
    {
     "data": {
      "text/plain": [
       "0.10164667949810266"
      ]
     },
     "execution_count": 198,
     "metadata": {},
     "output_type": "execute_result"
    }
   ],
   "source": [
    "# AMT_GOODS_PRICE\n",
    "\n",
    "# It would seem reasonalbe to set AMT_GOODS_PRICE equal to AMT_CREDIT\n",
    "# Let's check how well these columns align for the non-null cases\n",
    "temp = app_train[app_train.AMT_GOODS_PRICE.notnull()]\n",
    "sum(temp.AMT_CREDIT - temp.AMT_GOODS_PRICE)/sum(temp.AMT_CREDIT)"
   ]
  },
  {
   "cell_type": "code",
   "execution_count": 199,
   "metadata": {},
   "outputs": [
    {
     "name": "stdout",
     "output_type": "stream",
     "text": [
      "Dataframe has 245 columns.\n",
      "There are 61 columns with missing values.\n",
      "\n"
     ]
    }
   ],
   "source": [
    "# AMT_GOODS_PRICE is on average 10% lower than the AMT_CREDIT\n",
    "# So impute missing AMT_GOODS_PRICE values as 0.9*AMT_CREDIT\n",
    "app_train.loc[app_train.AMT_GOODS_PRICE.isnull(),'AMT_GOODS_PRICE'] = 0.9*app_train.AMT_CREDIT\n",
    "\n",
    "# Check whether it worked\n",
    "mv_cols = missing_vals_cols(app_train)"
   ]
  },
  {
   "cell_type": "code",
   "execution_count": 201,
   "metadata": {},
   "outputs": [
    {
     "name": "stdout",
     "output_type": "stream",
     "text": [
      "Mean daily requests: 0.0070002105326475985\n",
      "Mean quarterly requests: 0.26547414959848414\n"
     ]
    }
   ],
   "source": [
    "# AMT_REQ_CREDIT variables\n",
    "\n",
    "# Setting NaNs to zero or the mean number of requests would seem to be sensible approaches.\n",
    "# Check mean number of requests:\n",
    "print('Mean daily requests:',np.mean(app_train.AMT_REQ_CREDIT_BUREAU_DAY))\n",
    "print('Mean quarterly requests:',np.mean(app_train.AMT_REQ_CREDIT_BUREAU_QRT))      "
   ]
  },
  {
   "cell_type": "code",
   "execution_count": 202,
   "metadata": {},
   "outputs": [
    {
     "name": "stdout",
     "output_type": "stream",
     "text": [
      "Dataframe has 245 columns.\n",
      "There are 55 columns with missing values.\n"
     ]
    }
   ],
   "source": [
    "# Mean requests are very low anyway, so we will set missing values for these variables to zero.\n",
    "for col in ['AMT_REQ_CREDIT_BUREAU_DAY', 'AMT_REQ_CREDIT_BUREAU_HOUR', 'AMT_REQ_CREDIT_BUREAU_MON', \n",
    "            'AMT_REQ_CREDIT_BUREAU_QRT', 'AMT_REQ_CREDIT_BUREAU_WEEK', 'AMT_REQ_CREDIT_BUREAU_YEAR']:\n",
    "    app_train.loc[app_train[col].isnull(),col] = 0\n",
    "\n",
    "# Check whether it worked\n",
    "mv_cols = missing_vals_cols(app_train)"
   ]
  },
  {
   "cell_type": "code",
   "execution_count": 207,
   "metadata": {},
   "outputs": [
    {
     "name": "stdout",
     "output_type": "stream",
     "text": [
      "Dataframe has 245 columns.\n",
      "There are 0 columns with missing values.\n",
      "\n",
      "Columns with missing values:\n"
     ]
    },
    {
     "data": {
      "text/plain": [
       "[]"
      ]
     },
     "execution_count": 207,
     "metadata": {},
     "output_type": "execute_result"
    }
   ],
   "source": [
    "# Information on the building where the client lives\n",
    "\n",
    "# Approach: impute using the same strategy as the variable\n",
    "housing_vars = ['APARTMENTS', 'BASEMENTAREA','COMMONAREA','ELEVATORS','ENTRANCES','FLOORSMAX','FLOORSMIN',\n",
    "                'LANDAREA','LIVINGAPARTMENTS','LIVINGAREA','NONLIVINGAPARTMENTS','NONLIVINGAREA',\n",
    "                'YEARS_BEGINEXPLUATATION','YEARS_BUILD']\n",
    "\n",
    "for col in housing_vars:\n",
    "    app_train.loc[app_train[col+'_AVG'].isnull(),col+'_AVG'] = np.nanmean(app_train[col+'_AVG'])\n",
    "    app_train.loc[app_train[col+'_MEDI'].isnull(),col+'_MEDI'] = np.nanmedian(app_train[col+'_MEDI'])\n",
    "    app_train.loc[app_train[col+'_MODE'].isnull(),col+'_MODE'] = stats.mode(app_train[col+'_MODE'],nan_policy='omit')\n",
    "\n",
    "# TOTALAREA_MODE does not have corresponding AVG and MEDI vars, so process this separately.\n",
    "app_train.loc[app_train['TOTALAREA_MODE'].isnull(),'TOTALAREA_MODE'] = stats.mode(app_train['TOTALAREA_MODE'],nan_policy='omit')\n",
    "\n",
    "# Check whether it worked\n",
    "mv_cols = missing_vals_cols(app_train)\n",
    "print('\\nColumns with missing values:')\n",
    "mv_cols"
   ]
  },
  {
   "cell_type": "code",
   "execution_count": 206,
   "metadata": {},
   "outputs": [
    {
     "name": "stdout",
     "output_type": "stream",
     "text": [
      "Dataframe has 245 columns.\n",
      "There are 0 columns with missing values.\n"
     ]
    },
    {
     "data": {
      "text/plain": [
       "[]"
      ]
     },
     "execution_count": 206,
     "metadata": {},
     "output_type": "execute_result"
    }
   ],
   "source": [
    "# For the remaining variables, we will take the median.\n",
    "for col in mv_cols:\n",
    "    app_train.loc[app_train[col].isnull(),col] = np.nanmedian(app_train[col])\n",
    "    \n",
    "missing_vals_cols(app_train)"
   ]
  },
  {
   "cell_type": "markdown",
   "metadata": {},
   "source": [
    "## Feature Engineering\n",
    "\n",
    "### Additional features from training set\n",
    "\n",
    "Ideas:\n",
    "- Amount of credit relative to income (AMT_CREDIT/AMT_INCOME_TOTAL)\n",
    "- Amount of annuity relative to income (AMT_ANNUITY/AMT_INCOME_TOTAL)\n",
    "- Amount of credit relative to age (AMT_CREDIT/DAYS_BIRTH)\n",
    "- Length of current employment relative to age (DAYS_EMPLOYED/DAYS_BIRTH)"
   ]
  },
  {
   "cell_type": "code",
   "execution_count": 208,
   "metadata": {},
   "outputs": [
    {
     "name": "stdout",
     "output_type": "stream",
     "text": [
      "Train set shape: (307511, 245)\n",
      "Test set shape: (48744, 243)\n",
      "Combined set shape: (356255, 245)\n"
     ]
    }
   ],
   "source": [
    "# Start by appending test set to train set so that features are consistent\n",
    "app_train['test_set'] = 0\n",
    "app_test['test_set'] = 1\n",
    "\n",
    "app_train_test = app_train.append(app_test)\n",
    "\n",
    "print('Train set shape:', app_train.shape)\n",
    "print('Test set shape:', app_test.shape)\n",
    "print('Combined set shape:', app_train_test.shape)"
   ]
  },
  {
   "cell_type": "code",
   "execution_count": 209,
   "metadata": {},
   "outputs": [
    {
     "name": "stdout",
     "output_type": "stream",
     "text": [
      "Combined set shape: (356255, 249)\n"
     ]
    }
   ],
   "source": [
    "# Create new features from existing\n",
    "app_train_test['CREDIT_INCOME'] = app_train_test['AMT_CREDIT']/app_train_test['AMT_INCOME_TOTAL']\n",
    "app_train_test['ANNUITY_INCOME'] = app_train_test['AMT_ANNUITY']/app_train_test['AMT_INCOME_TOTAL']\n",
    "app_train_test['CREDIT_AGE'] = app_train_test['AMT_CREDIT']/app_train_test['DAYS_BIRTH']\n",
    "app_train_test['EMPT_AGE'] = app_train_test['DAYS_EMPLOYED']/app_train_test['DAYS_BIRTH']\n",
    "\n",
    "print('Combined set shape:', app_train_test.shape)"
   ]
  },
  {
   "cell_type": "code",
   "execution_count": 211,
   "metadata": {},
   "outputs": [
    {
     "name": "stdout",
     "output_type": "stream",
     "text": [
      "                CREDIT_INCOME  ANNUITY_INCOME  CREDIT_AGE  EMPT_AGE    TARGET\n",
      "CREDIT_INCOME        1.000000        0.780012   -0.560861  0.026530 -0.007727\n",
      "ANNUITY_INCOME       0.780012        1.000000   -0.325919 -0.015527  0.014268\n",
      "CREDIT_AGE          -0.560861       -0.325919    1.000000 -0.102270  0.002729\n",
      "EMPT_AGE             0.026530       -0.015527   -0.102270  1.000000 -0.049603\n",
      "TARGET              -0.007727        0.014268    0.002729 -0.049603  1.000000\n"
     ]
    },
    {
     "data": {
      "image/png": "[encoded data removed]",
      "text/plain": [
       "<matplotlib.figure.Figure at 0x171726ac3c8>"
      ]
     },
     "metadata": {},
     "output_type": "display_data"
    }
   ],
   "source": [
    "# Check whether these new features are likely to be of interest \n",
    "# by computing their correlation with the target variable.\n",
    "correlations = app_train_test[['CREDIT_INCOME','ANNUITY_INCOME','CREDIT_AGE','EMPT_AGE','TARGET']].corr()\n",
    "print(correlations)\n",
    "\n",
    "# Correlation heatmap\n",
    "sns.heatmap(correlations, annot=True, fmt = \".2f\");"
   ]
  },
  {
   "cell_type": "markdown",
   "metadata": {},
   "source": [
    "It appears as though EMPT_AGE is the only variable that has some relationship with the target variable. "
   ]
  },
  {
   "cell_type": "code",
   "execution_count": 212,
   "metadata": {},
   "outputs": [
    {
     "name": "stdout",
     "output_type": "stream",
     "text": [
      "Train set shape: (307511, 248)\n",
      "Test set shape: (48744, 247)\n"
     ]
    }
   ],
   "source": [
    "# Re-separate training and test sets before modelling.\n",
    "app_train = app_train_test.loc[(app_train_test['test_set']==0),].drop(['test_set'], axis=1)\n",
    "app_test = app_train_test.loc[(app_train_test['test_set']==1),].drop(['test_set','TARGET'], axis=1)\n",
    "\n",
    "print('Train set shape:', app_train.shape)\n",
    "print('Test set shape:', app_test.shape)"
   ]
  },
  {
   "cell_type": "markdown",
   "metadata": {},
   "source": [
    "\n",
    "## Baseline Models\n",
    "### Training data\n",
    "\n",
    "#### Logistic regression\n",
    "\n",
    "Start with basic logistic regression using only features from the training dataset in order to get a baseline.\n",
    "\n",
    "According to the Kaggle information, the evaluation variable is ROC AUC score."
   ]
  },
  {
   "cell_type": "code",
   "execution_count": 213,
   "metadata": {
    "collapsed": true
   },
   "outputs": [],
   "source": [
    "# Import modelling libraries\n",
    "\n",
    "from sklearn.linear_model import LogisticRegression\n",
    "from sklearn.pipeline import Pipeline\n",
    "from sklearn.model_selection import train_test_split\n",
    "from sklearn.metrics import accuracy_score, recall_score, confusion_matrix, classification_report, roc_curve, roc_auc_score"
   ]
  },
  {
   "cell_type": "code",
   "execution_count": 99,
   "metadata": {
    "collapsed": true
   },
   "outputs": [],
   "source": [
    "# Impute missing values using the mean\n",
    "imp = Imputer(missing_values='NaN', strategy='mean', axis=0)\n",
    "\n",
    "logreg = LogisticRegression(C=0.0001)\n",
    "\n",
    "steps = [('imputation', imp),\n",
    "        ('logistic_regression',logreg)]\n",
    "\n",
    "pipeline = Pipeline(steps)\n",
    "\n",
    "X = app_train.drop(['CREDIT_INCOME','ANNUITY_INCOME','CREDIT_AGE','EMPT_AGE','TARGET'], axis=1)\n",
    "y = app_train['TARGET']\n",
    "\n",
    "X_train, X_test, y_train, y_test = train_test_split(X, y, test_size = 0.4, random_state=42)"
   ]
  },
  {
   "cell_type": "code",
   "execution_count": 100,
   "metadata": {},
   "outputs": [
    {
     "data": {
      "text/plain": [
       "Pipeline(steps=[('imputation', Imputer(axis=0, copy=True, missing_values='NaN', strategy='mean', verbose=0)), ('logistic_regression', LogisticRegression(C=0.0001, class_weight=None, dual=False,\n",
       "          fit_intercept=True, intercept_scaling=1, max_iter=100,\n",
       "          multi_class='ovr', n_jobs=1, penalty='l2', random_state=None,\n",
       "          solver='liblinear', tol=0.0001, verbose=0, warm_start=False))])"
      ]
     },
     "execution_count": 100,
     "metadata": {},
     "output_type": "execute_result"
    }
   ],
   "source": [
    "pipeline.fit(X_train,y_train)"
   ]
  },
  {
   "cell_type": "code",
   "execution_count": 101,
   "metadata": {},
   "outputs": [
    {
     "data": {
      "text/plain": [
       "array([0.000, 0.000, 0.000, 0.000, 0.000, 0.000, 0.000, 0.000, 0.000, 0.000])"
      ]
     },
     "execution_count": 101,
     "metadata": {},
     "output_type": "execute_result"
    }
   ],
   "source": [
    "y_pred = pipeline.predict(X_test)\n",
    "#print(sum(y_pred))\n",
    "y_pred[:10]"
   ]
  },
  {
   "cell_type": "code",
   "execution_count": 102,
   "metadata": {},
   "outputs": [
    {
     "data": {
      "text/plain": [
       "0.91962115361164176"
      ]
     },
     "execution_count": 102,
     "metadata": {},
     "output_type": "execute_result"
    }
   ],
   "source": [
    "# Accuracy score\n",
    "accuracy_score(y_pred, y_test)"
   ]
  },
  {
   "cell_type": "code",
   "execution_count": 103,
   "metadata": {},
   "outputs": [
    {
     "name": "stdout",
     "output_type": "stream",
     "text": [
      "Confusion matrix:\n",
      " [[113118      1]\n",
      " [  9886      0]]\n",
      "\n",
      "Classification report:\n",
      "              precision    recall  f1-score   support\n",
      "\n",
      "        0.0       0.92      1.00      0.96    113119\n",
      "        1.0       0.00      0.00      0.00      9886\n",
      "\n",
      "avg / total       0.85      0.92      0.88    123005\n",
      "\n"
     ]
    }
   ],
   "source": [
    "# Some other metrics:\n",
    "print('Confusion matrix:\\n',confusion_matrix(y_test, y_pred))\n",
    "print()\n",
    "print('Classification report:\\n',classification_report(y_test,y_pred))"
   ]
  },
  {
   "cell_type": "code",
   "execution_count": 104,
   "metadata": {},
   "outputs": [
    {
     "data": {
      "image/png": "[encoded data removed]",
      "text/plain": [
       "<matplotlib.figure.Figure at 0x1718b4f8c18>"
      ]
     },
     "metadata": {},
     "output_type": "display_data"
    }
   ],
   "source": [
    "# Plot ROC curve\n",
    "\n",
    "y_pred_prob = pipeline.predict_proba(X_test)[:, 1]\n",
    "fpr, tpr, thresholds = roc_curve(y_test, y_pred_prob)\n",
    "\n",
    "plt.plot([0,1],[0,1],'k--')\n",
    "plt.plot(fpr,tpr,label='Logistic Regression')\n",
    "plt.xlabel('FPR')\n",
    "plt.ylabel('TPR')\n",
    "plt.title('Logistic Regression ROC Curve')\n",
    "plt.show()"
   ]
  },
  {
   "cell_type": "code",
   "execution_count": 105,
   "metadata": {},
   "outputs": [
    {
     "name": "stdout",
     "output_type": "stream",
     "text": [
      "ROC AUC score:\n",
      " 0.631083547001\n"
     ]
    }
   ],
   "source": [
    "print('ROC AUC score:\\n',roc_auc_score(y_test, y_pred_prob))"
   ]
  },
  {
   "cell_type": "code",
   "execution_count": 123,
   "metadata": {
    "collapsed": true
   },
   "outputs": [],
   "source": [
    "from sklearn.model_selection import cross_val_score\n",
    "\n",
    "imp.fit(X)\n",
    "X_imp = imp.transform(X)\n",
    "\n",
    "cv_scores = cross_val_score(logreg, X_imp, y, cv=5, scoring='roc_auc')"
   ]
  },
  {
   "cell_type": "code",
   "execution_count": 115,
   "metadata": {},
   "outputs": [
    {
     "name": "stdout",
     "output_type": "stream",
     "text": [
      "CV scores: [0.634 0.630 0.634 0.631 0.637]\n",
      "Mean:  0.633131046282\n"
     ]
    }
   ],
   "source": [
    "print('CV scores:',cv_scores)\n",
    "print('Mean: ', np.mean(cv_scores))"
   ]
  },
  {
   "cell_type": "markdown",
   "metadata": {},
   "source": [
    "#### Random Forest model"
   ]
  },
  {
   "cell_type": "code",
   "execution_count": 118,
   "metadata": {
    "collapsed": true
   },
   "outputs": [],
   "source": [
    "from sklearn.ensemble import RandomForestClassifier"
   ]
  },
  {
   "cell_type": "code",
   "execution_count": 125,
   "metadata": {
    "collapsed": true
   },
   "outputs": [],
   "source": [
    "imp = Imputer(missing_values='NaN', strategy='mean', axis=0)\n",
    "\n",
    "random_forest = RandomForestClassifier(random_state=42,verbose=1)\n",
    "\n",
    "steps = [('imputation', imp),\n",
    "        ('random_forest',random_forest)]\n",
    "\n",
    "pipeline = Pipeline(steps)\n",
    "\n",
    "X_train, X_test, y_train, y_test = train_test_split(X, y, test_size = 0.4, random_state=42)"
   ]
  },
  {
   "cell_type": "code",
   "execution_count": 126,
   "metadata": {},
   "outputs": [
    {
     "name": "stderr",
     "output_type": "stream",
     "text": [
      "[Parallel(n_jobs=1)]: Done  10 out of  10 | elapsed:   14.6s finished\n"
     ]
    },
    {
     "data": {
      "text/plain": [
       "Pipeline(steps=[('imputation', Imputer(axis=0, copy=True, missing_values='NaN', strategy='mean', verbose=0)), ('random_forest', RandomForestClassifier(bootstrap=True, class_weight=None, criterion='gini',\n",
       "            max_depth=None, max_features='auto', max_leaf_nodes=None,\n",
       "            min_impurity_split=1e-0...stimators=10, n_jobs=1, oob_score=False, random_state=42,\n",
       "            verbose=1, warm_start=False))])"
      ]
     },
     "execution_count": 126,
     "metadata": {},
     "output_type": "execute_result"
    }
   ],
   "source": [
    "pipeline.fit(X_train,y_train)"
   ]
  },
  {
   "cell_type": "code",
   "execution_count": 129,
   "metadata": {},
   "outputs": [
    {
     "name": "stderr",
     "output_type": "stream",
     "text": [
      "[Parallel(n_jobs=1)]: Done  10 out of  10 | elapsed:    0.6s finished\n"
     ]
    },
    {
     "data": {
      "text/plain": [
       "array([0.000, 0.000, 0.000, 0.000, 0.000, 0.000, 0.000, 0.000, 0.000, 0.000])"
      ]
     },
     "execution_count": 129,
     "metadata": {},
     "output_type": "execute_result"
    }
   ],
   "source": [
    "y_pred2 = pipeline.predict(X_test)\n",
    "#print(sum(y_pred))\n",
    "y_pred2[:10]"
   ]
  },
  {
   "cell_type": "code",
   "execution_count": 130,
   "metadata": {},
   "outputs": [
    {
     "data": {
      "text/plain": [
       "0.91898703304743712"
      ]
     },
     "execution_count": 130,
     "metadata": {},
     "output_type": "execute_result"
    }
   ],
   "source": [
    "# Accuracy score\n",
    "accuracy_score(y_pred2, y_test)"
   ]
  },
  {
   "cell_type": "code",
   "execution_count": 131,
   "metadata": {},
   "outputs": [
    {
     "name": "stdout",
     "output_type": "stream",
     "text": [
      "Confusion matrix:\n",
      " [[112964    155]\n",
      " [  9810     76]]\n",
      "\n",
      "Classification report:\n",
      "              precision    recall  f1-score   support\n",
      "\n",
      "        0.0       0.92      1.00      0.96    113119\n",
      "        1.0       0.33      0.01      0.02      9886\n",
      "\n",
      "avg / total       0.87      0.92      0.88    123005\n",
      "\n"
     ]
    }
   ],
   "source": [
    "# Some other metrics:\n",
    "print('Confusion matrix:\\n',confusion_matrix(y_test, y_pred2))\n",
    "print()\n",
    "print('Classification report:\\n',classification_report(y_test,y_pred2))"
   ]
  },
  {
   "cell_type": "code",
   "execution_count": 132,
   "metadata": {},
   "outputs": [
    {
     "name": "stderr",
     "output_type": "stream",
     "text": [
      "[Parallel(n_jobs=1)]: Done  10 out of  10 | elapsed:    0.6s finished\n"
     ]
    },
    {
     "data": {
      "image/png": "[encoded data removed]",
      "text/plain": [
       "<matplotlib.figure.Figure at 0x17210f56898>"
      ]
     },
     "metadata": {},
     "output_type": "display_data"
    }
   ],
   "source": [
    "# Plot ROC curve\n",
    "\n",
    "y_pred_prob2 = pipeline.predict_proba(X_test)[:, 1]\n",
    "fpr, tpr, thresholds = roc_curve(y_test, y_pred_prob2)\n",
    "\n",
    "plt.plot([0,1],[0,1],'k--')\n",
    "plt.plot(fpr,tpr,label='Random Forest Classifier')\n",
    "plt.xlabel('FPR')\n",
    "plt.ylabel('TPR')\n",
    "plt.title('Random Forest Classifier ROC Curve')\n",
    "plt.show()"
   ]
  },
  {
   "cell_type": "code",
   "execution_count": 133,
   "metadata": {},
   "outputs": [
    {
     "name": "stdout",
     "output_type": "stream",
     "text": [
      "ROC AUC score:\n",
      " 0.623210824279\n"
     ]
    }
   ],
   "source": [
    "print('ROC AUC score:\\n',roc_auc_score(y_test, y_pred_prob2))"
   ]
  },
  {
   "cell_type": "code",
   "execution_count": 134,
   "metadata": {},
   "outputs": [
    {
     "name": "stderr",
     "output_type": "stream",
     "text": [
      "[Parallel(n_jobs=1)]: Done  10 out of  10 | elapsed:   17.9s finished\n",
      "[Parallel(n_jobs=1)]: Done  10 out of  10 | elapsed:    0.2s finished\n",
      "[Parallel(n_jobs=1)]: Done  10 out of  10 | elapsed:   17.5s finished\n",
      "[Parallel(n_jobs=1)]: Done  10 out of  10 | elapsed:    0.2s finished\n",
      "[Parallel(n_jobs=1)]: Done  10 out of  10 | elapsed:   18.1s finished\n",
      "[Parallel(n_jobs=1)]: Done  10 out of  10 | elapsed:    0.2s finished\n",
      "[Parallel(n_jobs=1)]: Done  10 out of  10 | elapsed:   17.5s finished\n",
      "[Parallel(n_jobs=1)]: Done  10 out of  10 | elapsed:    0.2s finished\n",
      "[Parallel(n_jobs=1)]: Done  10 out of  10 | elapsed:   17.7s finished\n"
     ]
    },
    {
     "name": "stdout",
     "output_type": "stream",
     "text": [
      "CV Scores:  [0.624 0.627 0.627 0.629 0.626]\n",
      "Mean:  0.626704870042\n"
     ]
    },
    {
     "name": "stderr",
     "output_type": "stream",
     "text": [
      "[Parallel(n_jobs=1)]: Done  10 out of  10 | elapsed:    0.2s finished\n"
     ]
    }
   ],
   "source": [
    "cv_scores = cross_val_score(random_forest, X_imp, y, cv=5, scoring='roc_auc')\n",
    "\n",
    "print('CV Scores: ', cv_scores)\n",
    "print('Mean: ', np.mean(cv_scores))"
   ]
  },
  {
   "cell_type": "markdown",
   "metadata": {},
   "source": [
    "## Feature Engineering\n",
    "\n",
    "### Credit Bureau dataset\n",
    "Ideas:\n",
    "- Flag for whether applicant has had a previous Bureau loan (SK_ID_CURR is in Bureau = True)\n",
    "- Count of the number of previous Bureau loans (count of SK_ID_CURR in Bureau)\n",
    "- Flag for whether the applicant had an overdue/defaulted Bureau loan (\n",
    "- Max length of previous loan\n",
    "- Max size of previous loan\n",
    "- Flag for whether applicant has a current Bureau loan\n",
    "- Max "
   ]
  },
  {
   "cell_type": "code",
   "execution_count": 29,
   "metadata": {},
   "outputs": [
    {
     "data": {
      "text/plain": [
       "['SK_ID_CURR',\n",
       " 'SK_ID_BUREAU',\n",
       " 'DAYS_CREDIT',\n",
       " 'CREDIT_DAY_OVERDUE',\n",
       " 'DAYS_CREDIT_ENDDATE',\n",
       " 'DAYS_ENDDATE_FACT',\n",
       " 'AMT_CREDIT_MAX_OVERDUE',\n",
       " 'CNT_CREDIT_PROLONG',\n",
       " 'AMT_CREDIT_SUM',\n",
       " 'AMT_CREDIT_SUM_DEBT',\n",
       " 'AMT_CREDIT_SUM_LIMIT',\n",
       " 'AMT_CREDIT_SUM_OVERDUE',\n",
       " 'DAYS_CREDIT_UPDATE',\n",
       " 'AMT_ANNUITY',\n",
       " 'TARGET',\n",
       " 'CREDIT_ACTIVE_Active',\n",
       " 'CREDIT_ACTIVE_Bad debt',\n",
       " 'CREDIT_ACTIVE_Closed',\n",
       " 'CREDIT_ACTIVE_Sold',\n",
       " 'CREDIT_CURRENCY_currency 1',\n",
       " 'CREDIT_CURRENCY_currency 2',\n",
       " 'CREDIT_CURRENCY_currency 3',\n",
       " 'CREDIT_CURRENCY_currency 4',\n",
       " 'CREDIT_TYPE_Another type of loan',\n",
       " 'CREDIT_TYPE_Car loan',\n",
       " 'CREDIT_TYPE_Cash loan (non-earmarked)',\n",
       " 'CREDIT_TYPE_Consumer credit',\n",
       " 'CREDIT_TYPE_Credit card',\n",
       " 'CREDIT_TYPE_Interbank credit',\n",
       " 'CREDIT_TYPE_Loan for business development',\n",
       " 'CREDIT_TYPE_Loan for purchase of shares (margin lending)',\n",
       " 'CREDIT_TYPE_Loan for the purchase of equipment',\n",
       " 'CREDIT_TYPE_Loan for working capital replenishment',\n",
       " 'CREDIT_TYPE_Microloan',\n",
       " 'CREDIT_TYPE_Mobile operator loan',\n",
       " 'CREDIT_TYPE_Mortgage',\n",
       " 'CREDIT_TYPE_Real estate loan',\n",
       " 'CREDIT_TYPE_Unknown type of loan']"
      ]
     },
     "execution_count": 29,
     "metadata": {},
     "output_type": "execute_result"
    }
   ],
   "source": [
    "list(bureau_tgt)"
   ]
  },
  {
   "cell_type": "code",
   "execution_count": 28,
   "metadata": {},
   "outputs": [
    {
     "data": {
      "text/html": [
       "<div>\n",
       "<style>\n",
       "    .dataframe thead tr:only-child th {\n",
       "        text-align: right;\n",
       "    }\n",
       "\n",
       "    .dataframe thead th {\n",
       "        text-align: left;\n",
       "    }\n",
       "\n",
       "    .dataframe tbody tr th {\n",
       "        vertical-align: top;\n",
       "    }\n",
       "</style>\n",
       "<table border=\"1\" class=\"dataframe\">\n",
       "  <thead>\n",
       "    <tr style=\"text-align: right;\">\n",
       "      <th></th>\n",
       "      <th>SK_ID_CURR</th>\n",
       "      <th>SK_ID_BUREAU</th>\n",
       "      <th>DAYS_CREDIT</th>\n",
       "      <th>CREDIT_DAY_OVERDUE</th>\n",
       "      <th>DAYS_CREDIT_ENDDATE</th>\n",
       "      <th>DAYS_ENDDATE_FACT</th>\n",
       "      <th>AMT_CREDIT_MAX_OVERDUE</th>\n",
       "      <th>CNT_CREDIT_PROLONG</th>\n",
       "      <th>AMT_CREDIT_SUM</th>\n",
       "      <th>AMT_CREDIT_SUM_DEBT</th>\n",
       "      <th>...</th>\n",
       "      <th>CREDIT_TYPE_Interbank credit</th>\n",
       "      <th>CREDIT_TYPE_Loan for business development</th>\n",
       "      <th>CREDIT_TYPE_Loan for purchase of shares (margin lending)</th>\n",
       "      <th>CREDIT_TYPE_Loan for the purchase of equipment</th>\n",
       "      <th>CREDIT_TYPE_Loan for working capital replenishment</th>\n",
       "      <th>CREDIT_TYPE_Microloan</th>\n",
       "      <th>CREDIT_TYPE_Mobile operator loan</th>\n",
       "      <th>CREDIT_TYPE_Mortgage</th>\n",
       "      <th>CREDIT_TYPE_Real estate loan</th>\n",
       "      <th>CREDIT_TYPE_Unknown type of loan</th>\n",
       "    </tr>\n",
       "  </thead>\n",
       "  <tbody>\n",
       "    <tr>\n",
       "      <th>7778</th>\n",
       "      <td>436084</td>\n",
       "      <td>5723864</td>\n",
       "      <td>-986</td>\n",
       "      <td>0</td>\n",
       "      <td>NaN</td>\n",
       "      <td>NaN</td>\n",
       "      <td>184500.000</td>\n",
       "      <td>0</td>\n",
       "      <td>184500.00</td>\n",
       "      <td>0.000</td>\n",
       "      <td>...</td>\n",
       "      <td>0</td>\n",
       "      <td>0</td>\n",
       "      <td>0</td>\n",
       "      <td>0</td>\n",
       "      <td>0</td>\n",
       "      <td>0</td>\n",
       "      <td>0</td>\n",
       "      <td>0</td>\n",
       "      <td>0</td>\n",
       "      <td>0</td>\n",
       "    </tr>\n",
       "    <tr>\n",
       "      <th>30959</th>\n",
       "      <td>396333</td>\n",
       "      <td>5801236</td>\n",
       "      <td>-2627</td>\n",
       "      <td>0</td>\n",
       "      <td>-1529.0</td>\n",
       "      <td>-1502.0</td>\n",
       "      <td>127866.915</td>\n",
       "      <td>0</td>\n",
       "      <td>225000.00</td>\n",
       "      <td>115349.715</td>\n",
       "      <td>...</td>\n",
       "      <td>0</td>\n",
       "      <td>0</td>\n",
       "      <td>0</td>\n",
       "      <td>0</td>\n",
       "      <td>0</td>\n",
       "      <td>0</td>\n",
       "      <td>0</td>\n",
       "      <td>0</td>\n",
       "      <td>0</td>\n",
       "      <td>0</td>\n",
       "    </tr>\n",
       "    <tr>\n",
       "      <th>69946</th>\n",
       "      <td>386859</td>\n",
       "      <td>5246470</td>\n",
       "      <td>-2386</td>\n",
       "      <td>26</td>\n",
       "      <td>-2296.0</td>\n",
       "      <td>NaN</td>\n",
       "      <td>53532.000</td>\n",
       "      <td>1</td>\n",
       "      <td>58059.00</td>\n",
       "      <td>NaN</td>\n",
       "      <td>...</td>\n",
       "      <td>0</td>\n",
       "      <td>0</td>\n",
       "      <td>0</td>\n",
       "      <td>0</td>\n",
       "      <td>0</td>\n",
       "      <td>0</td>\n",
       "      <td>0</td>\n",
       "      <td>0</td>\n",
       "      <td>0</td>\n",
       "      <td>0</td>\n",
       "    </tr>\n",
       "    <tr>\n",
       "      <th>295159</th>\n",
       "      <td>231185</td>\n",
       "      <td>5173404</td>\n",
       "      <td>-2740</td>\n",
       "      <td>1761</td>\n",
       "      <td>-2558.0</td>\n",
       "      <td>NaN</td>\n",
       "      <td>2137.500</td>\n",
       "      <td>0</td>\n",
       "      <td>14296.50</td>\n",
       "      <td>7717.500</td>\n",
       "      <td>...</td>\n",
       "      <td>0</td>\n",
       "      <td>0</td>\n",
       "      <td>0</td>\n",
       "      <td>0</td>\n",
       "      <td>0</td>\n",
       "      <td>0</td>\n",
       "      <td>0</td>\n",
       "      <td>0</td>\n",
       "      <td>0</td>\n",
       "      <td>0</td>\n",
       "    </tr>\n",
       "    <tr>\n",
       "      <th>544624</th>\n",
       "      <td>446651</td>\n",
       "      <td>6439586</td>\n",
       "      <td>-2830</td>\n",
       "      <td>0</td>\n",
       "      <td>-2434.0</td>\n",
       "      <td>-1781.0</td>\n",
       "      <td>21741.615</td>\n",
       "      <td>0</td>\n",
       "      <td>58567.68</td>\n",
       "      <td>0.000</td>\n",
       "      <td>...</td>\n",
       "      <td>0</td>\n",
       "      <td>0</td>\n",
       "      <td>0</td>\n",
       "      <td>0</td>\n",
       "      <td>0</td>\n",
       "      <td>0</td>\n",
       "      <td>0</td>\n",
       "      <td>0</td>\n",
       "      <td>0</td>\n",
       "      <td>0</td>\n",
       "    </tr>\n",
       "    <tr>\n",
       "      <th>546312</th>\n",
       "      <td>232061</td>\n",
       "      <td>6441729</td>\n",
       "      <td>-2899</td>\n",
       "      <td>0</td>\n",
       "      <td>-1773.0</td>\n",
       "      <td>-1434.0</td>\n",
       "      <td>242637.480</td>\n",
       "      <td>0</td>\n",
       "      <td>365670.72</td>\n",
       "      <td>0.000</td>\n",
       "      <td>...</td>\n",
       "      <td>0</td>\n",
       "      <td>0</td>\n",
       "      <td>0</td>\n",
       "      <td>0</td>\n",
       "      <td>0</td>\n",
       "      <td>0</td>\n",
       "      <td>0</td>\n",
       "      <td>0</td>\n",
       "      <td>0</td>\n",
       "      <td>0</td>\n",
       "    </tr>\n",
       "    <tr>\n",
       "      <th>550115</th>\n",
       "      <td>243877</td>\n",
       "      <td>6446445</td>\n",
       "      <td>-2493</td>\n",
       "      <td>366</td>\n",
       "      <td>-898.0</td>\n",
       "      <td>NaN</td>\n",
       "      <td>NaN</td>\n",
       "      <td>0</td>\n",
       "      <td>162000.00</td>\n",
       "      <td>NaN</td>\n",
       "      <td>...</td>\n",
       "      <td>0</td>\n",
       "      <td>0</td>\n",
       "      <td>0</td>\n",
       "      <td>0</td>\n",
       "      <td>0</td>\n",
       "      <td>0</td>\n",
       "      <td>0</td>\n",
       "      <td>0</td>\n",
       "      <td>0</td>\n",
       "      <td>0</td>\n",
       "    </tr>\n",
       "    <tr>\n",
       "      <th>684142</th>\n",
       "      <td>273612</td>\n",
       "      <td>5309530</td>\n",
       "      <td>-2112</td>\n",
       "      <td>0</td>\n",
       "      <td>-1900.0</td>\n",
       "      <td>-1550.0</td>\n",
       "      <td>40871.880</td>\n",
       "      <td>0</td>\n",
       "      <td>22510.89</td>\n",
       "      <td>0.000</td>\n",
       "      <td>...</td>\n",
       "      <td>0</td>\n",
       "      <td>0</td>\n",
       "      <td>0</td>\n",
       "      <td>0</td>\n",
       "      <td>0</td>\n",
       "      <td>0</td>\n",
       "      <td>0</td>\n",
       "      <td>0</td>\n",
       "      <td>0</td>\n",
       "      <td>0</td>\n",
       "    </tr>\n",
       "    <tr>\n",
       "      <th>711352</th>\n",
       "      <td>186360</td>\n",
       "      <td>5499851</td>\n",
       "      <td>-1218</td>\n",
       "      <td>366</td>\n",
       "      <td>-852.0</td>\n",
       "      <td>NaN</td>\n",
       "      <td>NaN</td>\n",
       "      <td>0</td>\n",
       "      <td>121275.00</td>\n",
       "      <td>0.000</td>\n",
       "      <td>...</td>\n",
       "      <td>0</td>\n",
       "      <td>0</td>\n",
       "      <td>0</td>\n",
       "      <td>0</td>\n",
       "      <td>0</td>\n",
       "      <td>0</td>\n",
       "      <td>0</td>\n",
       "      <td>0</td>\n",
       "      <td>0</td>\n",
       "      <td>0</td>\n",
       "    </tr>\n",
       "    <tr>\n",
       "      <th>858406</th>\n",
       "      <td>158069</td>\n",
       "      <td>6039562</td>\n",
       "      <td>-1683</td>\n",
       "      <td>366</td>\n",
       "      <td>-862.0</td>\n",
       "      <td>NaN</td>\n",
       "      <td>NaN</td>\n",
       "      <td>0</td>\n",
       "      <td>528165.00</td>\n",
       "      <td>NaN</td>\n",
       "      <td>...</td>\n",
       "      <td>0</td>\n",
       "      <td>0</td>\n",
       "      <td>0</td>\n",
       "      <td>0</td>\n",
       "      <td>0</td>\n",
       "      <td>0</td>\n",
       "      <td>0</td>\n",
       "      <td>0</td>\n",
       "      <td>0</td>\n",
       "      <td>0</td>\n",
       "    </tr>\n",
       "  </tbody>\n",
       "</table>\n",
       "<p>10 rows × 38 columns</p>\n",
       "</div>"
      ],
      "text/plain": [
       "        SK_ID_CURR  SK_ID_BUREAU  DAYS_CREDIT  CREDIT_DAY_OVERDUE  \\\n",
       "7778        436084       5723864         -986                   0   \n",
       "30959       396333       5801236        -2627                   0   \n",
       "69946       386859       5246470        -2386                  26   \n",
       "295159      231185       5173404        -2740                1761   \n",
       "544624      446651       6439586        -2830                   0   \n",
       "546312      232061       6441729        -2899                   0   \n",
       "550115      243877       6446445        -2493                 366   \n",
       "684142      273612       5309530        -2112                   0   \n",
       "711352      186360       5499851        -1218                 366   \n",
       "858406      158069       6039562        -1683                 366   \n",
       "\n",
       "        DAYS_CREDIT_ENDDATE  DAYS_ENDDATE_FACT  AMT_CREDIT_MAX_OVERDUE  \\\n",
       "7778                    NaN                NaN              184500.000   \n",
       "30959               -1529.0            -1502.0              127866.915   \n",
       "69946               -2296.0                NaN               53532.000   \n",
       "295159              -2558.0                NaN                2137.500   \n",
       "544624              -2434.0            -1781.0               21741.615   \n",
       "546312              -1773.0            -1434.0              242637.480   \n",
       "550115               -898.0                NaN                     NaN   \n",
       "684142              -1900.0            -1550.0               40871.880   \n",
       "711352               -852.0                NaN                     NaN   \n",
       "858406               -862.0                NaN                     NaN   \n",
       "\n",
       "        CNT_CREDIT_PROLONG  AMT_CREDIT_SUM  AMT_CREDIT_SUM_DEBT  \\\n",
       "7778                     0       184500.00                0.000   \n",
       "30959                    0       225000.00           115349.715   \n",
       "69946                    1        58059.00                  NaN   \n",
       "295159                   0        14296.50             7717.500   \n",
       "544624                   0        58567.68                0.000   \n",
       "546312                   0       365670.72                0.000   \n",
       "550115                   0       162000.00                  NaN   \n",
       "684142                   0        22510.89                0.000   \n",
       "711352                   0       121275.00                0.000   \n",
       "858406                   0       528165.00                  NaN   \n",
       "\n",
       "                      ...                 CREDIT_TYPE_Interbank credit  \\\n",
       "7778                  ...                                            0   \n",
       "30959                 ...                                            0   \n",
       "69946                 ...                                            0   \n",
       "295159                ...                                            0   \n",
       "544624                ...                                            0   \n",
       "546312                ...                                            0   \n",
       "550115                ...                                            0   \n",
       "684142                ...                                            0   \n",
       "711352                ...                                            0   \n",
       "858406                ...                                            0   \n",
       "\n",
       "        CREDIT_TYPE_Loan for business development  \\\n",
       "7778                                            0   \n",
       "30959                                           0   \n",
       "69946                                           0   \n",
       "295159                                          0   \n",
       "544624                                          0   \n",
       "546312                                          0   \n",
       "550115                                          0   \n",
       "684142                                          0   \n",
       "711352                                          0   \n",
       "858406                                          0   \n",
       "\n",
       "        CREDIT_TYPE_Loan for purchase of shares (margin lending)  \\\n",
       "7778                                                    0          \n",
       "30959                                                   0          \n",
       "69946                                                   0          \n",
       "295159                                                  0          \n",
       "544624                                                  0          \n",
       "546312                                                  0          \n",
       "550115                                                  0          \n",
       "684142                                                  0          \n",
       "711352                                                  0          \n",
       "858406                                                  0          \n",
       "\n",
       "        CREDIT_TYPE_Loan for the purchase of equipment  \\\n",
       "7778                                                 0   \n",
       "30959                                                0   \n",
       "69946                                                0   \n",
       "295159                                               0   \n",
       "544624                                               0   \n",
       "546312                                               0   \n",
       "550115                                               0   \n",
       "684142                                               0   \n",
       "711352                                               0   \n",
       "858406                                               0   \n",
       "\n",
       "        CREDIT_TYPE_Loan for working capital replenishment  \\\n",
       "7778                                                    0    \n",
       "30959                                                   0    \n",
       "69946                                                   0    \n",
       "295159                                                  0    \n",
       "544624                                                  0    \n",
       "546312                                                  0    \n",
       "550115                                                  0    \n",
       "684142                                                  0    \n",
       "711352                                                  0    \n",
       "858406                                                  0    \n",
       "\n",
       "        CREDIT_TYPE_Microloan  CREDIT_TYPE_Mobile operator loan  \\\n",
       "7778                        0                                 0   \n",
       "30959                       0                                 0   \n",
       "69946                       0                                 0   \n",
       "295159                      0                                 0   \n",
       "544624                      0                                 0   \n",
       "546312                      0                                 0   \n",
       "550115                      0                                 0   \n",
       "684142                      0                                 0   \n",
       "711352                      0                                 0   \n",
       "858406                      0                                 0   \n",
       "\n",
       "        CREDIT_TYPE_Mortgage  CREDIT_TYPE_Real estate loan  \\\n",
       "7778                       0                             0   \n",
       "30959                      0                             0   \n",
       "69946                      0                             0   \n",
       "295159                     0                             0   \n",
       "544624                     0                             0   \n",
       "546312                     0                             0   \n",
       "550115                     0                             0   \n",
       "684142                     0                             0   \n",
       "711352                     0                             0   \n",
       "858406                     0                             0   \n",
       "\n",
       "        CREDIT_TYPE_Unknown type of loan  \n",
       "7778                                   0  \n",
       "30959                                  0  \n",
       "69946                                  0  \n",
       "295159                                 0  \n",
       "544624                                 0  \n",
       "546312                                 0  \n",
       "550115                                 0  \n",
       "684142                                 0  \n",
       "711352                                 0  \n",
       "858406                                 0  \n",
       "\n",
       "[10 rows x 38 columns]"
      ]
     },
     "execution_count": 28,
     "metadata": {},
     "output_type": "execute_result"
    }
   ],
   "source": [
    "#bureau_tgt['CREDIT_ACTIVE'].head(10)\n",
    "bureau_tgt[bureau_tgt['CREDIT_ACTIVE_Bad debt']==1].head(10)"
   ]
  },
  {
   "cell_type": "markdown",
   "metadata": {},
   "source": [
    "### Previous Applications dataset"
   ]
  }
 ],
 "metadata": {
  "kernelspec": {
   "display_name": "Python 3",
   "language": "python",
   "name": "python3"
  },
  "language_info": {
   "codemirror_mode": {
    "name": "ipython",
    "version": 3
   },
   "file_extension": ".py",
   "mimetype": "text/x-python",
   "name": "python",
   "nbconvert_exporter": "python",
   "pygments_lexer": "ipython3",
   "version": "3.6.1"
  }
 },
 "nbformat": 4,
 "nbformat_minor": 2
}
